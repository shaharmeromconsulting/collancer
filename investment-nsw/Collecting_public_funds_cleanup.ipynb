{
 "cells": [
  {
   "cell_type": "markdown",
   "id": "94b08252-88d6-4edf-909b-8dac1f750891",
   "metadata": {},
   "source": [
    "# 1 Script setup"
   ]
  },
  {
   "cell_type": "code",
   "execution_count": 1,
   "id": "39d95aa0-3a6a-4965-a554-75059e2b897a",
   "metadata": {},
   "outputs": [],
   "source": [
    "import pandas as pd\n",
    "import pandasql as ps\n",
    "import numpy as np\n",
    "import os\n",
    "os.chdir(r'C:\\Users\\merom\\Documents\\GitHub\\collancer\\investment-nsw\\output\\tenders')"
   ]
  },
  {
   "cell_type": "markdown",
   "id": "fe2718a4-d0bc-4f7e-bbd5-d2cb1ae8f0ee",
   "metadata": {},
   "source": [
    "# 2. Consolidate procurements"
   ]
  },
  {
   "cell_type": "code",
   "execution_count": 2,
   "id": "fbbb0c90-1ed5-4603-9851-783c238fc1c3",
   "metadata": {},
   "outputs": [],
   "source": [
    "tables = [pd.read_excel(x,header=2) for x in os.listdir()]\n",
    "data = pd.concat(tables,axis=0).drop_duplicates()"
   ]
  },
  {
   "cell_type": "markdown",
   "id": "0e550151-92d9-48b8-bdfa-2afb148684ce",
   "metadata": {},
   "source": [
    "# 3. Clean columns"
   ]
  },
  {
   "cell_type": "code",
   "execution_count": 4,
   "id": "ff54a310-ea87-40c3-aa23-dfb78adee090",
   "metadata": {},
   "outputs": [],
   "source": [
    "data['Estimated amount payable to the contractor (including GST)'] = data['Estimated amount payable to the contractor (including GST)'].apply(lambda x: float(str(x).replace('$','').replace(',','')))\n",
    "data['contract_start'] = pd.to_datetime(data['Contract Period'].apply(lambda x: x.split(' to ')[0]),errors = 'coerce')\n",
    "data['contract_end'] = pd.to_datetime(data['Contract Period'].apply(lambda x: x.split(' to ')[1]),errors = 'coerce')\n",
    "data = data[(data.contract_start.isnull()==False)&(data.contract_end.isnull()==False)].reset_index(drop=True)\n",
    "data['contract_length'] = (data['contract_end']-data['contract_start']).astype(np.int64)/(1000000000*60*60*24)"
   ]
  },
  {
   "cell_type": "markdown",
   "id": "488b418f-8875-41c4-9ad0-f768a97a4650",
   "metadata": {},
   "source": [
    "# 4. Create calendar year frame"
   ]
  },
  {
   "cell_type": "code",
   "execution_count": 5,
   "id": "27c2fb62-4531-4650-8ef7-86643dcf8a56",
   "metadata": {},
   "outputs": [],
   "source": [
    "frame = pd.DataFrame()\n",
    "for i in range(2000,2025):\n",
    "    temp_table = pd.DataFrame(data = [[f'1-Jan-{i}',f'31-Dec-{i}']],columns = ('year_start','year_end'))\n",
    "#    temp_table['year_start']= f'1-Jan-{i}'\n",
    "#    temp_table['year_end']= f'31-Dec-{i}'\n",
    "    frame = pd.concat([frame,temp_table])\n",
    "frame = frame.reset_index(drop=True)\n",
    "frame.year_start = pd.to_datetime(frame.year_start)\n",
    "frame.year_end = pd.to_datetime(frame.year_end)"
   ]
  },
  {
   "cell_type": "markdown",
   "id": "62aca89f-4479-4672-843b-db1003e2a4f4",
   "metadata": {},
   "source": [
    "# 5. Combine dataframe and aportion contract value to year"
   ]
  },
  {
   "cell_type": "code",
   "execution_count": 6,
   "id": "09168041-b322-45a4-957e-c6b8d1821d74",
   "metadata": {},
   "outputs": [],
   "source": [
    "sqlcode = '''\n",
    "select A.*,B.*\n",
    "from frame A\n",
    "inner join data B \n",
    "on (A.year_start <= B.contract_end) and (A.year_end >= b.contract_start)\n",
    "'''\n",
    "# Merge dataframes\n",
    "newdf = ps.sqldf(sqlcode,locals())\n",
    "\n",
    "#For each row Identify relevant start date and end date\n",
    "newdf['row_time_start'] = pd.to_datetime(newdf[['year_start','contract_start']].apply(max,axis=1))\n",
    "newdf['row_time_end'] = pd.to_datetime(newdf[['year_end','contract_end']].apply(min,axis=1))\n",
    "\n",
    "newdf['attributable_days'] = (newdf['row_time_end']-newdf['row_time_start']).astype(np.int64)/(1000000000*60*60*24)\n",
    "newdf['attributable_share'] = (newdf['attributable_days']/newdf['contract_length']).apply(lambda x: 1 if x>1 else x)\n",
    "newdf['attributable_cost']=newdf['attributable_share']*newdf['Estimated amount payable to the contractor (including GST)']\n"
   ]
  },
  {
   "cell_type": "markdown",
   "id": "c36e299b-b328-47df-9fcb-3b3adafc4aea",
   "metadata": {},
   "source": [
    "# 6. Change working directory to output folder"
   ]
  },
  {
   "cell_type": "code",
   "execution_count": 8,
   "id": "95a2e3ae-5885-4290-9c6f-fcc2d7f23a74",
   "metadata": {},
   "outputs": [],
   "source": [
    "os.chdir(r'C:\\Users\\merom\\Documents\\GitHub\\collancer\\investment-nsw\\output')"
   ]
  },
  {
   "cell_type": "code",
   "execution_count": 9,
   "id": "60d02599-ff54-4824-9471-6e9737881f95",
   "metadata": {},
   "outputs": [],
   "source": [
    "newdf[['year_start','year_end','Category','attributable_cost']].groupby(['year_start','year_end','Category']).sum().to_csv('nsw_procurement.csv')"
   ]
  },
  {
   "cell_type": "code",
   "execution_count": 16,
   "id": "f73d2f8b-065f-416e-88e8-92cd951731d5",
   "metadata": {},
   "outputs": [],
   "source": [
    "newdf.loc[newdf.year_start>='2022-12-31',['year_start','year_end','Category','attributable_cost']].groupby(['year_start','year_end','Category']).sum().to_csv('nsw_procurement2324.csv')"
   ]
  },
  {
   "cell_type": "code",
   "execution_count": 19,
   "id": "3ce9498b-5470-4e45-8863-6f485e760ec4",
   "metadata": {},
   "outputs": [
    {
     "data": {
      "text/html": [
       "<div>\n",
       "<style scoped>\n",
       "    .dataframe tbody tr th:only-of-type {\n",
       "        vertical-align: middle;\n",
       "    }\n",
       "\n",
       "    .dataframe tbody tr th {\n",
       "        vertical-align: top;\n",
       "    }\n",
       "\n",
       "    .dataframe thead th {\n",
       "        text-align: right;\n",
       "    }\n",
       "</style>\n",
       "<table border=\"1\" class=\"dataframe\">\n",
       "  <thead>\n",
       "    <tr style=\"text-align: right;\">\n",
       "      <th></th>\n",
       "      <th>year_start</th>\n",
       "      <th>year_end</th>\n",
       "      <th>Contract Title</th>\n",
       "      <th>CAN ID</th>\n",
       "      <th>Agency</th>\n",
       "      <th>Category</th>\n",
       "      <th>Particulars of the goods or services to be provided under this contract</th>\n",
       "      <th>Published</th>\n",
       "      <th>Contract Period</th>\n",
       "      <th>Estimated amount payable to the contractor (including GST)</th>\n",
       "      <th>...</th>\n",
       "      <th>Contractor Name</th>\n",
       "      <th>Last Updated</th>\n",
       "      <th>contract_start</th>\n",
       "      <th>contract_end</th>\n",
       "      <th>contract_length</th>\n",
       "      <th>row_time_start</th>\n",
       "      <th>row_time_end</th>\n",
       "      <th>attributable_days</th>\n",
       "      <th>attributable_share</th>\n",
       "      <th>attributable_cost</th>\n",
       "    </tr>\n",
       "  </thead>\n",
       "  <tbody>\n",
       "    <tr>\n",
       "      <th>32933</th>\n",
       "      <td>2023-01-01 00:00:00.000000</td>\n",
       "      <td>2023-12-31 00:00:00.000000</td>\n",
       "      <td>Credits Supply Fund - Reverse auctions for in-...</td>\n",
       "      <td>SR4057427954/RA454</td>\n",
       "      <td>Biodiversity Conservation &amp; Science</td>\n",
       "      <td>Other\\t</td>\n",
       "      <td>Purchase of biodiversity credits for resale t...</td>\n",
       "      <td>31-May-2024</td>\n",
       "      <td>6-Dec-2023  to 7-Jun-2024</td>\n",
       "      <td>352000.0</td>\n",
       "      <td>...</td>\n",
       "      <td>Department of Planning and Environment</td>\n",
       "      <td>31-May-2024 4:19pm</td>\n",
       "      <td>2023-12-06 00:00:00.000000</td>\n",
       "      <td>2024-06-07 00:00:00.000000</td>\n",
       "      <td>184.0</td>\n",
       "      <td>2023-12-06</td>\n",
       "      <td>2023-12-31</td>\n",
       "      <td>25.0</td>\n",
       "      <td>0.135870</td>\n",
       "      <td>47826.086957</td>\n",
       "    </tr>\n",
       "    <tr>\n",
       "      <th>46855</th>\n",
       "      <td>2024-01-01 00:00:00.000000</td>\n",
       "      <td>2024-12-31 00:00:00.000000</td>\n",
       "      <td>Credits Supply Fund - Reverse auctions for in-...</td>\n",
       "      <td>SR4057427954/RA454</td>\n",
       "      <td>Biodiversity Conservation &amp; Science</td>\n",
       "      <td>Other\\t</td>\n",
       "      <td>Purchase of biodiversity credits for resale t...</td>\n",
       "      <td>31-May-2024</td>\n",
       "      <td>6-Dec-2023  to 7-Jun-2024</td>\n",
       "      <td>352000.0</td>\n",
       "      <td>...</td>\n",
       "      <td>Department of Planning and Environment</td>\n",
       "      <td>31-May-2024 4:19pm</td>\n",
       "      <td>2023-12-06 00:00:00.000000</td>\n",
       "      <td>2024-06-07 00:00:00.000000</td>\n",
       "      <td>184.0</td>\n",
       "      <td>2024-01-01</td>\n",
       "      <td>2024-06-07</td>\n",
       "      <td>158.0</td>\n",
       "      <td>0.858696</td>\n",
       "      <td>302260.869565</td>\n",
       "    </tr>\n",
       "  </tbody>\n",
       "</table>\n",
       "<p>2 rows × 23 columns</p>\n",
       "</div>"
      ],
      "text/plain": [
       "                       year_start                    year_end  \\\n",
       "32933  2023-01-01 00:00:00.000000  2023-12-31 00:00:00.000000   \n",
       "46855  2024-01-01 00:00:00.000000  2024-12-31 00:00:00.000000   \n",
       "\n",
       "                                          Contract Title              CAN ID  \\\n",
       "32933  Credits Supply Fund - Reverse auctions for in-...  SR4057427954/RA454   \n",
       "46855  Credits Supply Fund - Reverse auctions for in-...  SR4057427954/RA454   \n",
       "\n",
       "                                    Agency Category  \\\n",
       "32933  Biodiversity Conservation & Science  Other\\t   \n",
       "46855  Biodiversity Conservation & Science  Other\\t   \n",
       "\n",
       "      Particulars of the goods or services to be provided under this contract  \\\n",
       "32933   Purchase of biodiversity credits for resale t...                        \n",
       "46855   Purchase of biodiversity credits for resale t...                        \n",
       "\n",
       "          Published             Contract Period  \\\n",
       "32933  31-May-2024   6-Dec-2023  to 7-Jun-2024    \n",
       "46855  31-May-2024   6-Dec-2023  to 7-Jun-2024    \n",
       "\n",
       "       Estimated amount payable to the contractor (including GST)  ...  \\\n",
       "32933                                           352000.0           ...   \n",
       "46855                                           352000.0           ...   \n",
       "\n",
       "                              Contractor Name         Last Updated  \\\n",
       "32933  Department of Planning and Environment  31-May-2024 4:19pm    \n",
       "46855  Department of Planning and Environment  31-May-2024 4:19pm    \n",
       "\n",
       "                   contract_start                contract_end contract_length  \\\n",
       "32933  2023-12-06 00:00:00.000000  2024-06-07 00:00:00.000000           184.0   \n",
       "46855  2023-12-06 00:00:00.000000  2024-06-07 00:00:00.000000           184.0   \n",
       "\n",
       "      row_time_start row_time_end  attributable_days attributable_share  \\\n",
       "32933     2023-12-06   2023-12-31               25.0           0.135870   \n",
       "46855     2024-01-01   2024-06-07              158.0           0.858696   \n",
       "\n",
       "      attributable_cost  \n",
       "32933      47826.086957  \n",
       "46855     302260.869565  \n",
       "\n",
       "[2 rows x 23 columns]"
      ]
     },
     "execution_count": 19,
     "metadata": {},
     "output_type": "execute_result"
    }
   ],
   "source": [
    "newdf.loc[(newdf.year_start>='2022-12-31')&(newdf['CAN ID']=='SR4057427954/RA454'),:]"
   ]
  }
 ],
 "metadata": {
  "kernelspec": {
   "display_name": "Python 3 (ipykernel)",
   "language": "python",
   "name": "python3"
  },
  "language_info": {
   "codemirror_mode": {
    "name": "ipython",
    "version": 3
   },
   "file_extension": ".py",
   "mimetype": "text/x-python",
   "name": "python",
   "nbconvert_exporter": "python",
   "pygments_lexer": "ipython3",
   "version": "3.12.2"
  }
 },
 "nbformat": 4,
 "nbformat_minor": 5
}
